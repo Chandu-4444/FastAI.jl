{
 "cells": [
  {
   "cell_type": "code",
   "execution_count": 1,
   "metadata": {},
   "outputs": [
    {
     "name": "stderr",
     "output_type": "stream",
     "text": [
      "┌ Info: Precompiling FastAI [5d0beca9-ade8-49ae-ad0b-a3cf890e669f]\n",
      "└ @ Base loading.jl:1313\n"
     ]
    }
   ],
   "source": [
    "using FastAI\n",
    "using FluxTraining"
   ]
  },
  {
   "cell_type": "code",
   "execution_count": 199,
   "metadata": {},
   "outputs": [
    {
     "data": {
      "text/plain": [
       "Learner()"
      ]
     },
     "execution_count": 199,
     "metadata": {},
     "output_type": "execute_result"
    }
   ],
   "source": [
    "dataset = Datasets.loaddataset(\"imagenette2-160\");\n",
    "\n",
    "method = ImageClassification(Datasets.loadclasses(\"imagenette2-160\"), (160, 160))\n",
    "\n",
    "dls = methoddataloaders(dataset, method)\n",
    "\n",
    "model = methodmodel(method, Models.xresnet18());\n",
    "\n",
    "learner = Learner(model, dls, ADAM(), methodlossfn(method), ToGPU(), Metrics(SmoothLoss(), accuracy))"
   ]
  },
  {
   "cell_type": "code",
   "execution_count": 109,
   "metadata": {},
   "outputs": [
    {
     "name": "stderr",
     "output_type": "stream",
     "text": [
      "\u001b[32mEpoch 1 ValidationPhase(): 100%|████████████████████████| Time: 0:00:03\u001b[39m\n"
     ]
    },
    {
     "name": "stdout",
     "output_type": "stream",
     "text": [
      "┌─────────────────┬───────┬─────────┬────────────┬──────────┐\n",
      "│\u001b[1m           Phase \u001b[0m│\u001b[1m Epoch \u001b[0m│\u001b[1m    Loss \u001b[0m│\u001b[1m SmoothLoss \u001b[0m│\u001b[1m Accuracy \u001b[0m│\n",
      "├─────────────────┼───────┼─────────┼────────────┼──────────┤\n",
      "│ ValidationPhase │   1.0 │ 3.01754 │    2.20938 │  0.10156 │\n",
      "└─────────────────┴───────┴─────────┴────────────┴──────────┘\n"
     ]
    },
    {
     "data": {
      "text/plain": [
       "Learner()"
      ]
     },
     "execution_count": 109,
     "metadata": {},
     "output_type": "execute_result"
    }
   ],
   "source": [
    "fit!(learner, ValidationPhase())"
   ]
  },
  {
   "cell_type": "code",
   "execution_count": 202,
   "metadata": {},
   "outputs": [
    {
     "name": "stderr",
     "output_type": "stream",
     "text": [
      "\u001b[32mEpoch 1 FastAI.LRFinderPhase(1.0e-7, 10, 100, 0.08, 4, nothing):  14%  ETA: 0:00:30\u001b[39m"
     ]
    },
    {
     "name": "stdout",
     "output_type": "stream",
     "text": [
      "┌──────────────────────┬───────┬─────────┬────────────┐\n",
      "│\u001b[1m                Phase \u001b[0m│\u001b[1m Epoch \u001b[0m│\u001b[1m    Loss \u001b[0m│\u001b[1m SmoothLoss \u001b[0m│\n",
      "├──────────────────────┼───────┼─────────┼────────────┤\n",
      "│ FastAI.LRFinderPhase │   1.0 │ 2.86561 │    16.9383 │\n",
      "└──────────────────────┴───────┴─────────┴────────────┘\n"
     ]
    },
    {
     "data": {
      "text/plain": [
       "Learner()"
      ]
     },
     "execution_count": 202,
     "metadata": {},
     "output_type": "execute_result"
    }
   ],
   "source": [
    "phase = FastAI.LRFinderPhase(steps = 100, β = 0.08)\n",
    "fit!(learner, phase)"
   ]
  },
  {
   "cell_type": "code",
   "execution_count": 112,
   "metadata": {},
   "outputs": [
    {
     "data": {
      "text/html": [
       "  <script type=\"text/javascript\" class=\"js-plotly-script\">\n",
       "    globalComms = {};\n",
       "    demoData = {};\n",
       "\n",
       "    $(\".js-plotly-script\").parent().css('padding', 0);\n",
       "\n",
       "    function customPlotlyReact(curPlot, curData, curLayout, curConfig) {\n",
       "      for (var i = 0; i < curData.length; i++) {\n",
       "        curData[i][\"visible\"] = true;\n",
       "        for (var j = 0; j < curPlot.data.length; j++) {\n",
       "          if ( curData[i].name !== curPlot.data[j].name ) { continue; }\n",
       "          if ( curPlot.data[j].visible !== \"legendonly\" ) { continue; }\n",
       "\n",
       "          curData[i][\"visible\"] = \"legendonly\";\n",
       "        }\n",
       "      }\n",
       "\n",
       "      Plotly.react(curPlot, curData, curLayout, curConfig);\n",
       "    }\n",
       "\n",
       "    function customPlotLoader(curCallback) {\n",
       "      if ( $(\".js-nouislider-css\").length == 0 ) {\n",
       "        $(\"head\").append(\n",
       "          '<link class=\"js-nouislider-css\" href=\"https://cdn.jsdelivr.net/gh/djsegal/SimplePlots.jl/dist/nouislider.min.css\" rel=\"stylesheet\">'\n",
       "        );\n",
       "      }\n",
       "\n",
       "      if ( $(\".js-custom-css\").length == 0 ) {\n",
       "        $(\"head\").append(\n",
       "          '<link class=\"js-custom-css\" href=\"https://cdn.jsdelivr.net/gh/djsegal/SimplePlots.jl/dist/custom.min.css\" rel=\"stylesheet\">'\n",
       "        );\n",
       "      }\n",
       "\n",
       "      if ( typeof Plotly !== \"undefined\" ) {\n",
       "        if ( typeof curCallback !== \"undefined\" ) {\n",
       "          curCallback();\n",
       "        }\n",
       "        return;\n",
       "      }\n",
       "\n",
       "      var plotlyScripts = document.getElementsByClassName(\"js-plotly-script\");\n",
       "\n",
       "      for (var i = 0; i < plotlyScripts.length; i++) {\n",
       "        var scriptParent = plotlyScripts[i].parentElement;\n",
       "        scriptParent.style.margin = \"0\";\n",
       "        scriptParent.style.padding = \"0\";\n",
       "      }\n",
       "\n",
       "      require.config({\n",
       "        paths: {\n",
       "          Plotly: \"https://cdn.plot.ly/plotly-1.53.0.min\",\n",
       "          noUiSlider: \"https://cdn.jsdelivr.net/gh/djsegal/SimplePlots.jl/dist/nouislider.min\",\n",
       "          wNumb: \"https://cdn.jsdelivr.net/gh/djsegal/SimplePlots.jl/dist/wnumb.min\"\n",
       "        }\n",
       "      });\n",
       "\n",
       "      require([\"Plotly\", \"noUiSlider\", \"wNumb\"], function(Plotly, noUiSlider, wNumb){\n",
       "        window.Plotly = Plotly;\n",
       "        window.noUiSlider = noUiSlider;\n",
       "        window.wNumb = wNumb;\n",
       "\n",
       "        if ( typeof curCallback !== \"undefined\" ) {\n",
       "          curCallback();\n",
       "        }\n",
       "\n",
       "        $(\"head\").append($(\".js-plotly-script\"));\n",
       "        $(\"head .js-plotly-script:not(:first)\").remove();\n",
       "        $(\"body .js-plotly-script\").remove();\n",
       "      });\n",
       "    }\n",
       "\n",
       "    $(document).ready(customPlotLoader);\n",
       "    customPlotLoader();\n",
       "  </script>\n"
      ],
      "text/plain": [
       "HTML{String}(\"  <script type=\\\"text/javascript\\\" class=\\\"js-plotly-script\\\">\\n    globalComms = {};\\n    demoData = {};\\n\\n    \\$(\\\".js-plotly-script\\\").parent().css('padding', 0);\\n\\n    function customPlotlyReact(curPlot, curData, curLayout, curConfig) {\\n      for (var i = 0; i < curData.length; i++) {\\n        curData[i][\\\"visible\\\"] = true;\\n        for (var j = 0; j < curPlot.data.length; j++) {\\n          if ( curData[i].name !== curPlot.data[j].name ) { continue; }\\n          if ( curPlot.data[j].visible !== \\\"legendonly\\\" ) { continue; }\\n\\n          curData[i][\\\"visible\\\"] = \\\"legendonly\\\";\\n        }\\n      }\\n\\n      Plotly.react(curPlot, curData, curLayout, curConfig);\\n    }\\n\\n    function customPlotLoader(curCallback) {\\n      if ( \\$(\\\".js-nouislider-css\\\").length == 0 ) {\\n        \\$(\\\"head\\\").append(\\n          '<link class=\\\"js-nouislider-css\\\" href=\\\"https://cdn.jsdelivr.net/gh/djsegal/SimplePlots.jl/dist/nouislider.min.css\\\" rel=\\\"stylesheet\\\">'\\n        );\\n      }\\n\\n      if ( \\$(\\\".js-custom-css\\\").length == 0 ) {\\n        \\$(\\\"head\\\").append(\\n          '<link class=\\\"js-custom-css\\\" href=\\\"https://cdn.jsdelivr.net/gh/djsegal/SimplePlots.jl/dist/custom.min.css\\\" rel=\\\"stylesheet\\\">'\\n        );\\n      }\\n\\n      if ( typeof Plotly !== \\\"undefined\\\" ) {\\n        if ( typeof curCallback !== \\\"undefined\\\" ) {\\n          curCallback();\\n        }\\n        return;\\n      }\\n\\n      var plotlyScripts = document.getElementsByClassName(\\\"js-plotly-script\\\");\\n\\n      for (var i = 0; i < plotlyScripts.length; i++) {\\n        var scriptParent = plotlyScripts[i].parentElement;\\n        scriptParent.style.margin = \\\"0\\\";\\n        scriptParent.style.padding = \\\"0\\\";\\n      }\\n\\n      require.config({\\n        paths: {\\n          Plotly: \\\"https://cdn.plot.ly/plotly-1.53.0.min\\\",\\n          noUiSlider: \\\"https://cdn.jsdelivr.net/gh/djsegal/SimplePlots.jl/dist/nouislider.min\\\",\\n          wNumb: \\\"https://cdn.jsdelivr.net/gh/djsegal/SimplePlots.jl/dist/wnumb.min\\\"\\n        }\\n      });\\n\\n      require([\\\"Plotly\\\", \\\"noUiSlider\\\", \\\"wNumb\\\"], function(Plotly, noUiSlider, wNumb){\\n        window.Plotly = Plotly;\\n        window.noUiSlider = noUiSlider;\\n        window.wNumb = wNumb;\\n\\n        if ( typeof curCallback !== \\\"undefined\\\" ) {\\n          curCallback();\\n        }\\n\\n        \\$(\\\"head\\\").append(\\$(\\\".js-plotly-script\\\"));\\n        \\$(\\\"head .js-plotly-script:not(:first)\\\").remove();\\n        \\$(\\\"body .js-plotly-script\\\").remove();\\n      });\\n    }\\n\\n    \\$(document).ready(customPlotLoader);\\n    customPlotLoader();\\n  </script>\\n\")"
      ]
     },
     "metadata": {},
     "output_type": "display_data"
    },
    {
     "name": "stderr",
     "output_type": "stream",
     "text": [
      "WARNING: using SimplePlots.plot in module Main conflicts with an existing identifier.\n"
     ]
    }
   ],
   "source": [
    "using SimplePlots"
   ]
  },
  {
   "cell_type": "code",
   "execution_count": 203,
   "metadata": {},
   "outputs": [
    {
     "data": {
      "text/html": [
       "  <div id=\"js-plot-7c9199b3-673a-4866-8b18-eb331cba4326\" style=\"width:600px;height:400px;\"></div>\n",
       "  <script class=\"js-new-plot-script\">\n",
       "    var anonFunc = function () {\n",
       "      plotDiv = document.getElementById('js-plot-7c9199b3-673a-4866-8b18-eb331cba4326');\n",
       "      if ( plotDiv === null ) { return; }\n",
       "      if ( plotDiv.childElementCount > 0 ) { return; }\n",
       "\n",
       "      Plotly.newPlot(\n",
       "        plotDiv,\n",
       "        [{\"line\":{\"color\":\"#636EFA\"},\"mode\":\"lines\",\"x\":[1.2022645e-7,1.4454398e-7,1.7378008e-7,2.089296e-7,2.5118865e-7,3.019952e-7,3.6307804e-7,4.3651582e-7,5.2480743e-7,6.3095735e-7,7.585776e-7,9.120108e-7,1.0964782e-6,1.3182567e-6,1.5848932e-6,1.9054607e-6,2.2908675e-6,2.7542287e-6,3.3113113e-6,3.9810716e-6,4.786301e-6,5.7543994e-6,6.9183097e-6,8.317637e-6,1.0e-5,1.2022644e-5,1.4454397e-5,1.7378008e-5,2.0892961e-5,2.5118865e-5,3.0199517e-5,3.6307807e-5,4.3651584e-5,5.2480747e-5,6.309574e-5,7.585776e-5,9.120109e-5,0.00010964782,0.00013182567,0.00015848932,0.00019054607,0.00022908677,0.00027542288,0.00033113113,0.00039810716,0.0004786301,0.00057543995,0.000691831,0.0008317638,0.001,0.0012022645,0.0014454398,0.0017378008,0.0020892962,0.0025118864,0.0030199517,0.0036307806,0.0043651583,0.0052480744,0.0063095735,0.0075857756,0.009120109,0.010964782,0.013182567,0.015848933,0.019054607,0.022908676,0.027542287,0.03311311,0.039810717,0.04786301,0.057543993,0.0691831,0.083176374,0.1,0.12022644,0.14454398,0.17378008,0.20892961,0.25118864,0.30199516,0.36307806,0.43651584,0.52480745,0.63095737,0.7585776,0.91201085,1.0964782,1.3182567,1.5848932,1.9054607,2.2908676,2.7542286],\"y\":[2.5167599,2.2320144,2.4454868,2.6576657,2.1387916,2.4620738,2.6061733,2.6880817,2.6384275,2.3582916,2.6012726,2.4320178,2.7836168,2.52802,2.502649,2.4004567,2.638181,2.3619833,2.3336816,2.3098137,2.468624,2.517022,2.4404716,2.5672183,2.6014516,2.7462997,2.5594354,2.5789518,2.622253,2.417955,2.5031338,2.4924507,2.1993468,2.3843262,2.401427,2.7026982,2.6724582,2.252953,2.5753617,2.1890874,2.2918694,2.076436,2.3212354,2.3768234,2.1373723,2.2005348,2.0965233,2.1818995,1.9782852,2.0849872,1.9676919,1.978767,2.0921087,2.2147865,2.397207,1.8880293,2.0115352,1.9452621,2.3409343,2.4804134,2.2038193,2.325563,3.5687518,2.6334457,3.0667202,3.1004186,2.981547,2.7047307,3.3863864,2.7884736,3.4553719,3.0910618,2.940474,5.7099524,2.390851,2.9324222,3.9302115,3.5907443,2.8227475,2.5749965,2.7245138,2.538578,2.5563087,2.3119373,3.6827462,2.8222759,3.7917924,4.2399597,4.4592876,6.911332,3.8928487,3.693502,18.087011]}],\n",
       "        {\"showlegend\":true,\"xaxis\":{\"autorange\":true,\"type\":\"log\",\"exponentformat\":\"power\"},\"annotations\":[],\"yaxis\":{\"autorange\":true,\"type\":\"linear\"},\"shapes\":[],\"legend\":{}},\n",
       "        {\"responsive\":true}\n",
       "      );\n",
       "    }\n",
       "\n",
       "    customPlotLoader(anonFunc);\n",
       "  </script>\n"
      ],
      "text/plain": [
       "HTML{String}(\"  <div id=\\\"js-plot-7c9199b3-673a-4866-8b18-eb331cba4326\\\" style=\\\"width:600px;height:400px;\\\"></div>\\n  <script class=\\\"js-new-plot-script\\\">\\n    var anonFunc = function () {\\n      plotDiv = document.getElementById('js-plot-7c9199b3-673a-4866-8b18-eb331cba4326');\\n      if ( plotDiv === null ) { return; }\\n      if ( plotDiv.childElementCount > 0 ) { return; }\\n\\n      Plotly.newPlot(\\n        plotDiv,\\n        [{\\\"line\\\":{\\\"color\\\":\\\"#636EFA\\\"},\\\"mode\\\":\\\"lines\\\",\\\"x\\\":[1.2022645e-7,1.4454398e-7,1.7378008e-7,2.089296e-7,2.5118865e-7,3.019952e-7,3.6307804e-7,4.3651582e-7,5.2480743e-7,6.3095735e-7,7.585776e-7,9.120108e-7,1.0964782e-6,1.3182567e-6,1.5848932e-6,1.9054607e-6,2.2908675e-6,2.7542287e-6,3.3113113e-6,3.9810716e-6,4.786301e-6,5.7543994e-6,6.9183097e-6,8.317637e-6,1.0e-5,1.2022644e-5,1.4454397e-5,1.7378008e-5,2.0892961e-5,2.5118865e-5,3.0199517e-5,3.6307807e-5,4.3651584e-5,5.2480747e-5,6.309574e-5,7.585776e-5,9.120109e-5,0.00010964782,0.00013182567,0.00015848932,0.00019054607,0.00022908677,0.00027542288,0.00033113113,0.00039810716,0.0004786301,0.00057543995,0.000691831,0.0008317638,0.001,0.0012022645,0.0014454398,0.0017378008,0.0020892962,0.0025118864,0.0030199517,0.0036307806,0.0043651583,0.0052480744,0.0063095735,0.0075857756,0.009120109,0.010964782,0.013182567,0.015848933,0.019054607,0.022908676,0.027542287,0.03311311,0.039810717,0.04786301,0.057543993,0.0691831,0.083176374,0.1,0.12022644,0.14454398,0.17378008,0.20892961,0.25118864,0.30199516,0.36307806,0.43651584,0.52480745,0.63095737,0.7585776,0.91201085,1.0964782,1.3182567,1.5848932,1.9054607,2.2908676,2.7542286],\\\"y\\\":[2.5167599,2.2320144,2.4454868,2.6576657,2.1387916,2.4620738,2.6061733,2.6880817,2.6384275,2.3582916,2.6012726,2.4320178,2.7836168,2.52802,2.502649,2.4004567,2.638181,2.3619833,2.3336816,2.3098137,2.468624,2.517022,2.4404716,2.5672183,2.6014516,2.7462997,2.5594354,2.5789518,2.622253,2.417955,2.5031338,2.4924507,2.1993468,2.3843262,2.401427,2.7026982,2.6724582,2.252953,2.5753617,2.1890874,2.2918694,2.076436,2.3212354,2.3768234,2.1373723,2.2005348,2.0965233,2.1818995,1.9782852,2.0849872,1.9676919,1.978767,2.0921087,2.2147865,2.397207,1.8880293,2.0115352,1.9452621,2.3409343,2.4804134,2.2038193,2.325563,3.5687518,2.6334457,3.0667202,3.1004186,2.981547,2.7047307,3.3863864,2.7884736,3.4553719,3.0910618,2.940474,5.7099524,2.390851,2.9324222,3.9302115,3.5907443,2.8227475,2.5749965,2.7245138,2.538578,2.5563087,2.3119373,3.6827462,2.8222759,3.7917924,4.2399597,4.4592876,6.911332,3.8928487,3.693502,18.087011]}],\\n        {\\\"showlegend\\\":true,\\\"xaxis\\\":{\\\"autorange\\\":true,\\\"type\\\":\\\"log\\\",\\\"exponentformat\\\":\\\"power\\\"},\\\"annotations\\\":[],\\\"yaxis\\\":{\\\"autorange\\\":true,\\\"type\\\":\\\"linear\\\"},\\\"shapes\\\":[],\\\"legend\\\":{}},\\n        {\\\"responsive\\\":true}\\n      );\\n    }\\n\\n    customPlotLoader(anonFunc);\\n  </script>\\n\")"
      ]
     },
     "metadata": {},
     "output_type": "display_data"
    },
    {
     "data": {
      "text/plain": []
     },
     "execution_count": 203,
     "metadata": {},
     "output_type": "execute_result"
    }
   ],
   "source": [
    "SimplePlots.plot(phase.result.lrs, phase.result.losses, xscale=:log)"
   ]
  }
 ],
 "metadata": {
  "kernelspec": {
   "display_name": "Julia (24 threads) 1.6.0-beta1",
   "language": "julia",
   "name": "julia-(24-threads)-1.6"
  },
  "language_info": {
   "file_extension": ".jl",
   "mimetype": "application/julia",
   "name": "julia",
   "version": "1.6.0"
  }
 },
 "nbformat": 4,
 "nbformat_minor": 4
}
