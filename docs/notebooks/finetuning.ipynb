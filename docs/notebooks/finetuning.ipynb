{
 "cells": [
  {
   "cell_type": "code",
   "execution_count": 1,
   "metadata": {},
   "outputs": [
    {
     "name": "stderr",
     "output_type": "stream",
     "text": [
      "┌ Info: Precompiling FastAI [5d0beca9-ade8-49ae-ad0b-a3cf890e669f]\n",
      "└ @ Base loading.jl:1313\n"
     ]
    }
   ],
   "source": [
    "using FastAI\n",
    "using FluxTraining"
   ]
  },
  {
   "cell_type": "code",
   "execution_count": 13,
   "metadata": {},
   "outputs": [
    {
     "data": {
      "text/plain": [
       "Learner()"
      ]
     },
     "execution_count": 13,
     "metadata": {},
     "output_type": "execute_result"
    }
   ],
   "source": [
    "dataset = Datasets.loaddataset(\"imagenette2-160\");\n",
    "\n",
    "method = ImageClassification(Datasets.loadclasses(\"imagenette2-160\"), (160, 160))\n",
    "\n",
    "dls = methoddataloaders(dataset, method)\n",
    "\n",
    "model = methodmodel(method, Models.xresnet18());\n",
    "\n",
    "learner = Learner(model, dls, ADAM(), methodlossfn(method), ToGPU(), Metrics(SmoothLoss(), accuracy))"
   ]
  },
  {
   "cell_type": "code",
   "execution_count": 14,
   "metadata": {},
   "outputs": [
    {
     "name": "stderr",
     "output_type": "stream",
     "text": [
      "\u001b[32mEpoch 1 TrainingPhase(): 100%|██████████████████████████| Time: 0:00:34\u001b[39m\n"
     ]
    },
    {
     "name": "stdout",
     "output_type": "stream",
     "text": [
      "┌───────────────┬───────┬─────────┬────────────┬──────────┐\n",
      "│\u001b[1m         Phase \u001b[0m│\u001b[1m Epoch \u001b[0m│\u001b[1m    Loss \u001b[0m│\u001b[1m SmoothLoss \u001b[0m│\u001b[1m Accuracy \u001b[0m│\n",
      "├───────────────┼───────┼─────────┼────────────┼──────────┤\n",
      "│ TrainingPhase │   1.0 │ 1.68799 │    1.98817 │  0.43146 │\n",
      "└───────────────┴───────┴─────────┴────────────┴──────────┘\n"
     ]
    },
    {
     "name": "stderr",
     "output_type": "stream",
     "text": [
      "\u001b[32mEpoch 1 ValidationPhase(): 100%|████████████████████████| Time: 0:00:03\u001b[39m\n"
     ]
    },
    {
     "name": "stdout",
     "output_type": "stream",
     "text": [
      "┌─────────────────┬───────┬─────────┬────────────┬──────────┐\n",
      "│\u001b[1m           Phase \u001b[0m│\u001b[1m Epoch \u001b[0m│\u001b[1m    Loss \u001b[0m│\u001b[1m SmoothLoss \u001b[0m│\u001b[1m Accuracy \u001b[0m│\n",
      "├─────────────────┼───────┼─────────┼────────────┼──────────┤\n",
      "│ ValidationPhase │   1.0 │ 1.65383 │    1.32354 │  0.50542 │\n",
      "└─────────────────┴───────┴─────────┴────────────┴──────────┘\n"
     ]
    },
    {
     "name": "stderr",
     "output_type": "stream",
     "text": [
      "\u001b[32mEpoch 2 TrainingPhase(): 100%|██████████████████████████| Time: 0:00:35\u001b[39m\n"
     ]
    },
    {
     "name": "stdout",
     "output_type": "stream",
     "text": [
      "┌───────────────┬───────┬─────────┬────────────┬──────────┐\n",
      "│\u001b[1m         Phase \u001b[0m│\u001b[1m Epoch \u001b[0m│\u001b[1m    Loss \u001b[0m│\u001b[1m SmoothLoss \u001b[0m│\u001b[1m Accuracy \u001b[0m│\n",
      "├───────────────┼───────┼─────────┼────────────┼──────────┤\n",
      "│ TrainingPhase │   2.0 │ 1.10621 │    0.63056 │  0.64326 │\n",
      "└───────────────┴───────┴─────────┴────────────┴──────────┘\n"
     ]
    },
    {
     "name": "stderr",
     "output_type": "stream",
     "text": [
      "\u001b[32mEpoch 2 ValidationPhase(): 100%|████████████████████████| Time: 0:00:02\u001b[39m\n"
     ]
    },
    {
     "name": "stdout",
     "output_type": "stream",
     "text": [
      "┌─────────────────┬───────┬─────────┬────────────┬──────────┐\n",
      "│\u001b[1m           Phase \u001b[0m│\u001b[1m Epoch \u001b[0m│\u001b[1m    Loss \u001b[0m│\u001b[1m SmoothLoss \u001b[0m│\u001b[1m Accuracy \u001b[0m│\n",
      "├─────────────────┼───────┼─────────┼────────────┼──────────┤\n",
      "│ ValidationPhase │   2.0 │ 0.88542 │    0.83544 │  0.72093 │\n",
      "└─────────────────┴───────┴─────────┴────────────┴──────────┘\n"
     ]
    },
    {
     "data": {
      "text/plain": [
       "Learner()"
      ]
     },
     "execution_count": 14,
     "metadata": {},
     "output_type": "execute_result"
    }
   ],
   "source": [
    "fitonecycle!(learner, 2)"
   ]
  },
  {
   "cell_type": "code",
   "execution_count": 17,
   "metadata": {},
   "outputs": [
    {
     "name": "stderr",
     "output_type": "stream",
     "text": [
      "\u001b[32mEpoch 1 TrainingPhase(): 100%|██████████████████████████| Time: 0:00:35\u001b[39m\n"
     ]
    },
    {
     "name": "stdout",
     "output_type": "stream",
     "text": [
      "┌───────────────┬───────┬─────────┬────────────┬──────────┐\n",
      "│\u001b[1m         Phase \u001b[0m│\u001b[1m Epoch \u001b[0m│\u001b[1m    Loss \u001b[0m│\u001b[1m SmoothLoss \u001b[0m│\u001b[1m Accuracy \u001b[0m│\n",
      "├───────────────┼───────┼─────────┼────────────┼──────────┤\n",
      "│ TrainingPhase │   1.0 │ 0.91977 │    0.90744 │  0.70086 │\n",
      "└───────────────┴───────┴─────────┴────────────┴──────────┘\n"
     ]
    },
    {
     "name": "stderr",
     "output_type": "stream",
     "text": [
      "\u001b[32mEpoch 1 ValidationPhase(): 100%|████████████████████████| Time: 0:00:02\u001b[39m\n"
     ]
    },
    {
     "name": "stdout",
     "output_type": "stream",
     "text": [
      "┌─────────────────┬───────┬─────────┬────────────┬──────────┐\n",
      "│\u001b[1m           Phase \u001b[0m│\u001b[1m Epoch \u001b[0m│\u001b[1m    Loss \u001b[0m│\u001b[1m SmoothLoss \u001b[0m│\u001b[1m Accuracy \u001b[0m│\n",
      "├─────────────────┼───────┼─────────┼────────────┼──────────┤\n",
      "│ ValidationPhase │   1.0 │ 0.86985 │    0.82125 │  0.71832 │\n",
      "└─────────────────┴───────┴─────────┴────────────┴──────────┘\n"
     ]
    },
    {
     "name": "stderr",
     "output_type": "stream",
     "text": [
      "\u001b[32mEpoch 1 TrainingPhase(): 100%|██████████████████████████| Time: 0:00:35\u001b[39m\n"
     ]
    },
    {
     "name": "stdout",
     "output_type": "stream",
     "text": [
      "┌───────────────┬───────┬─────────┬────────────┬──────────┐\n",
      "│\u001b[1m         Phase \u001b[0m│\u001b[1m Epoch \u001b[0m│\u001b[1m    Loss \u001b[0m│\u001b[1m SmoothLoss \u001b[0m│\u001b[1m Accuracy \u001b[0m│\n",
      "├───────────────┼───────┼─────────┼────────────┼──────────┤\n",
      "│ TrainingPhase │   1.0 │ 0.90201 │    1.02704 │  0.70781 │\n",
      "└───────────────┴───────┴─────────┴────────────┴──────────┘\n"
     ]
    },
    {
     "name": "stderr",
     "output_type": "stream",
     "text": [
      "\u001b[32mEpoch 1 ValidationPhase(): 100%|████████████████████████| Time: 0:00:02\u001b[39m\n"
     ]
    },
    {
     "name": "stdout",
     "output_type": "stream",
     "text": [
      "┌─────────────────┬───────┬─────────┬────────────┬──────────┐\n",
      "│\u001b[1m           Phase \u001b[0m│\u001b[1m Epoch \u001b[0m│\u001b[1m    Loss \u001b[0m│\u001b[1m SmoothLoss \u001b[0m│\u001b[1m Accuracy \u001b[0m│\n",
      "├─────────────────┼───────┼─────────┼────────────┼──────────┤\n",
      "│ ValidationPhase │   1.0 │ 0.83348 │    0.59924 │  0.73172 │\n",
      "└─────────────────┴───────┴─────────┴────────────┴──────────┘\n"
     ]
    },
    {
     "data": {
      "text/plain": [
       "Learner()"
      ]
     },
     "execution_count": 17,
     "metadata": {},
     "output_type": "execute_result"
    }
   ],
   "source": [
    "finetune!(learner, 1)"
   ]
  },
  {
   "cell_type": "markdown",
   "metadata": {},
   "source": [
    "## `finetune!`"
   ]
  },
  {
   "cell_type": "code",
   "execution_count": 7,
   "metadata": {},
   "outputs": [
    {
     "data": {
      "text/plain": [
       "finetune!"
      ]
     },
     "execution_count": 7,
     "metadata": {},
     "output_type": "execute_result"
    }
   ],
   "source": [
    "\"\"\"\n",
    "    finetune!(learner, nepochs[, base_lr = 0.002; kwargs...])\n",
    "\n",
    "Behaves as [`fastai.Learner.fine_tune`](https://github.com/fastai/fastai/blob/master/fastai/callback/schedule.py#L151)\n",
    "\"\"\"\n",
    "function finetune!(\n",
    "        learner,\n",
    "        nepochs,\n",
    "        base_lr = 0.002;\n",
    "        freezeepochs = 1,\n",
    "        trainlayers = [2,],\n",
    "        lr_mult = 100,\n",
    "        div = 5,\n",
    "        pct_start = 0.3,\n",
    "        kwargs...)\n",
    "    \n",
    "    model = learner.model\n",
    "    try\n",
    "        # freeze backbone and train head\n",
    "        FluxTraining.model!(learner, freeze(model, freezelayers))\n",
    "        fitonecycle!(learner, freezeepochs, base_lr, pct_start=0.99; kwargs...)\n",
    "        \n",
    "        # unfreeze\n",
    "        FluxTraining.model!(learner, model)\n",
    "        base_lr /= 2\n",
    "        # TODO: use discriminative learning rates\n",
    "        fitonecycle!(\n",
    "            learner, nepochs, base_lr;\n",
    "            div = div, pct_start = pct_start, kwargs...)\n",
    "        return learner\n",
    "    catch e\n",
    "        FluxTraining.model!(learner, model)\n",
    "        rethrow(e)\n",
    "    end\n",
    "end"
   ]
  },
  {
   "cell_type": "code",
   "execution_count": 10,
   "metadata": {},
   "outputs": [
    {
     "data": {
      "text/plain": [
       "freeze"
      ]
     },
     "execution_count": 10,
     "metadata": {},
     "output_type": "execute_result"
    }
   ],
   "source": [
    "\"\"\"\n",
    "    freeze(model, indices)\n",
    "\n",
    "Freeze all parameters in `model`, except those in `model[indices]`.\n",
    "\"\"\"\n",
    "freeze(model, indices::AbstractVector) = FrozenModel(model, model -> model[indices])"
   ]
  },
  {
   "cell_type": "code",
   "execution_count": 8,
   "metadata": {},
   "outputs": [],
   "source": [
    "using Flux"
   ]
  },
  {
   "cell_type": "code",
   "execution_count": 17,
   "metadata": {},
   "outputs": [],
   "source": [
    "struct FrozenModel\n",
    "    model\n",
    "    fn\n",
    "end\n",
    "\n",
    "Flux.params(model::FrozenModel) = params(model.fn(model.model))"
   ]
  },
  {
   "cell_type": "markdown",
   "metadata": {},
   "source": [
    "## `lrfind!`"
   ]
  },
  {
   "cell_type": "code",
   "execution_count": 27,
   "metadata": {},
   "outputs": [],
   "source": [
    "using Animations"
   ]
  },
  {
   "cell_type": "code",
   "execution_count": null,
   "metadata": {},
   "outputs": [],
   "source": [
    "\"\"\"\n",
    "    lrfind!(learner; start_lr = 1e-7, end_lr = 10, num_it = 100, stop_div = true)\n",
    "\n",
    "Run the learning rate finder for `num_it` steps, exponentially increasing\n",
    "the learning rate from `start_lr` to `end_lr`.\n",
    "\n",
    "The model and callbacks are reset to their previous state afterwards.\n",
    "\"\"\"\n",
    "function lrfind!(learner; start_lr = 1e-7, end_lr = 10, num_it = 100, stop_div = true)\n",
    "    origmodel = deepcopy(cpu(learner.model))\n",
    "    origcallbacks = learner.callbacks\n",
    "    try\n",
    "        schedule = Schedule([0, num_it], [start_lr, end_lr], Animations.expout)\n",
    "        callbacks = [Recorder(), Scheduler(LearningRate => schedule)]\n",
    "        \n",
    "    catch e\n",
    "        rethrow(e)\n",
    "    finally\n",
    "        model!(learner, origmodel)\n",
    "        learner.callbacks = origcallbacks\n",
    "    end\n",
    "end"
   ]
  },
  {
   "cell_type": "code",
   "execution_count": null,
   "metadata": {},
   "outputs": [],
   "source": []
  },
  {
   "cell_type": "code",
   "execution_count": null,
   "metadata": {},
   "outputs": [],
   "source": [
    "struct LRFinderResult\n",
    "    losses\n",
    "    steepest\n",
    "    mindiv10\n",
    "end"
   ]
  },
  {
   "cell_type": "code",
   "execution_count": null,
   "metadata": {},
   "outputs": [],
   "source": [
    "struct LRFinderPhase <: FluxTraining.Phases.AbstractTrainingPhase\n",
    "    \n",
    "end"
   ]
  },
  {
   "cell_type": "code",
   "execution_count": null,
   "metadata": {},
   "outputs": [],
   "source": [
    "FastAI.setschedules!()"
   ]
  },
  {
   "cell_type": "code",
   "execution_count": null,
   "metadata": {},
   "outputs": [],
   "source": [
    "function fitepochphase!(\n",
    "        learner::Learner,\n",
    "        phase::LRFinderResult)\n",
    "    \n",
    "    dataiter = getdataiter(TrainingPhase(), learner)\n",
    "    if dataiter === nothing\n",
    "        throw(CancelEpochException(\"No data found for phase $(typeof(phase))\"))\n",
    "    end\n",
    "    \n",
    "    \n",
    "    \n",
    "    metric = SmoothLoss(phase.\\beta)\n",
    "    metricscb = Metrics(metrics)\n",
    "    \n",
    "    withcallbacks(learner, metricscb, Scheduler()) do\n",
    "        setschedules!(learner, LearningRate => schedule)\n",
    "        \n",
    "        bestloss = Inf\n",
    "        for (i, batch) in zip(1:phase.num_step, dataiter)\n",
    "            fitbatch!(learner, batch, phase)\n",
    "            loss = FluxTraining.stepvalue(metric)\n",
    "            smoothloss = \n",
    "            push!(phase.result.losses, smoothloss)\n",
    "        end\n",
    "    end\n",
    "    \n",
    "    \n",
    "    \n",
    "    \n",
    "    \n",
    "    \n",
    "    schedule = Schedule([0, phase.num_it], [phase.start_lr, phase.end_lr], Animations.expout)\n",
    "    oldscheduler = FastAI.setschedules!(learner, LearningRate => schedule)\n",
    "    oldmetrics = FluxTraining.replacecallback!(learner, Metrics())\n",
    "\n",
    "    handle(EpochBegin(), learner, phase)\n",
    "\n",
    "    for (i, batch) in zip(1:phase.num_step, dataiter)\n",
    "        fitbatch!(learner, batch, phase)\n",
    "    end\n",
    "\n",
    "    handle(EpochEnd(), learner, phase)\n",
    "end"
   ]
  },
  {
   "cell_type": "code",
   "execution_count": null,
   "metadata": {},
   "outputs": [],
   "source": [
    "withcallbacks(learner, Metrics(); clearstate = [:metrics]) do\n",
    "    withschedules(learner, LearningRate => schedule)\n",
    "    \n",
    "end"
   ]
  },
  {
   "cell_type": "code",
   "execution_count": 1,
   "metadata": {},
   "outputs": [
    {
     "data": {
      "text/plain": [
       "withcallbacks"
      ]
     },
     "execution_count": 1,
     "metadata": {},
     "output_type": "execute_result"
    }
   ],
   "source": [
    "\"\"\"\n",
    "    withcallbacks(f, learner, callbacks...)\n",
    "\n",
    "Run `f` with `callbacks` on `learner`. Existing callbacks on `learner` of\n",
    "the same type as in `callbacks` are swapped during the execution of `f`.\n",
    "\"\"\"\n",
    "function withcallbacks(f, learner, callbacks...)\n",
    "    origcallbacks = [FluxTraining.replacecallback!(learner, cb) for cb in callbacks]\n",
    "    try\n",
    "        f()\n",
    "    catch e\n",
    "        rethrow(e)\n",
    "    finally\n",
    "        for (i, cb) in origcallbacks\n",
    "            if isnothing(cb)\n",
    "                FluxTraining.removecallback!(learner, callbacks[i])\n",
    "            else\n",
    "                FluxTraining.replacecallback!(learner, cb)\n",
    "            end\n",
    "        end\n",
    "    end\n",
    "end"
   ]
  }
 ],
 "metadata": {
  "kernelspec": {
   "display_name": "Julia (24 threads) 1.6.0-beta1",
   "language": "julia",
   "name": "julia-(24-threads)-1.6"
  },
  "language_info": {
   "file_extension": ".jl",
   "mimetype": "application/julia",
   "name": "julia",
   "version": "1.6.0"
  }
 },
 "nbformat": 4,
 "nbformat_minor": 4
}
