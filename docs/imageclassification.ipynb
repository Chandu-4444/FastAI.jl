{
 "cells": [
  {
   "cell_type": "code",
   "execution_count": 18,
   "metadata": {},
   "outputs": [
    {
     "data": {
      "text/plain": [
       "FluxModels"
      ]
     },
     "execution_count": 18,
     "metadata": {},
     "output_type": "execute_result"
    }
   ],
   "source": [
    "using FastAI\n",
    "using FluxModels\n",
    "using Flux\n",
    "const Models = FluxModels"
   ]
  },
  {
   "cell_type": "code",
   "execution_count": null,
   "metadata": {},
   "outputs": [],
   "source": [
    "Flux.out"
   ]
  },
  {
   "cell_type": "code",
   "execution_count": null,
   "metadata": {},
   "outputs": [],
   "source": []
  },
  {
   "cell_type": "code",
   "execution_count": 20,
   "metadata": {},
   "outputs": [
    {
     "ename": "LoadError",
     "evalue": "MethodError: no method matching outdims(::BatchNorm{typeof(relu), Vector{Float32}, Vector{Float32}, Float32}, ::Tuple{Int64, Int64})\nClosest candidates are:\n  outdims(!Matched::Chain, ::Any) at /home/lorenz/.julia/packages/Flux/sY3yx/src/layers/basic.jl:60\n  outdims(!Matched::Dense, ::Any) at /home/lorenz/.julia/packages/Flux/sY3yx/src/layers/basic.jl:151\n  outdims(!Matched::Flux.Diagonal, ::Any) at /home/lorenz/.julia/packages/Flux/sY3yx/src/layers/basic.jl:185\n  ...",
     "output_type": "error",
     "traceback": [
      "MethodError: no method matching outdims(::BatchNorm{typeof(relu), Vector{Float32}, Vector{Float32}, Float32}, ::Tuple{Int64, Int64})\nClosest candidates are:\n  outdims(!Matched::Chain, ::Any) at /home/lorenz/.julia/packages/Flux/sY3yx/src/layers/basic.jl:60\n  outdims(!Matched::Dense, ::Any) at /home/lorenz/.julia/packages/Flux/sY3yx/src/layers/basic.jl:151\n  outdims(!Matched::Flux.Diagonal, ::Any) at /home/lorenz/.julia/packages/Flux/sY3yx/src/layers/basic.jl:185\n  ...",
      "",
      "Stacktrace:",
      "  [1] FlipArgs",
      "    @ ./reduce.jl:194 [inlined]",
      "  [2] BottomRF",
      "    @ ./reduce.jl:81 [inlined]",
      "  [3] afoldl(op::Base.BottomRF{Base.FlipArgs{typeof(Flux.outdims)}}, a::Tuple{Int64, Int64}, b::BatchNorm{typeof(relu), Vector{Float32}, Vector{Float32}, Float32})",
      "    @ Base ./operators.jl:527",
      "  [4] afoldl(op::Base.BottomRF{Base.FlipArgs{typeof(Flux.outdims)}}, a::Tuple{Int64, Int64, Int64}, b::Conv{2, 4, typeof(identity), Array{Float32, 4}, Vector{Float32}}, c::BatchNorm{typeof(relu), Vector{Float32}, Vector{Float32}, Float32})",
      "    @ Base ./operators.jl:528",
      "  [5] _foldl_impl(op::Base.BottomRF{Base.FlipArgs{typeof(Flux.outdims)}}, init::Tuple{Int64, Int64, Int64}, itr::Tuple{Conv{2, 4, typeof(identity), Array{Float32, 4}, Vector{Float32}}, BatchNorm{typeof(relu), Vector{Float32}, Vector{Float32}, Float32}})",
      "    @ Base ./tuple.jl:263",
      "  [6] foldl_impl(op::Base.BottomRF{Base.FlipArgs{typeof(Flux.outdims)}}, nt::Tuple{Int64, Int64, Int64}, itr::Tuple{Conv{2, 4, typeof(identity), Array{Float32, 4}, Vector{Float32}}, BatchNorm{typeof(relu), Vector{Float32}, Vector{Float32}, Float32}})",
      "    @ Base ./reduce.jl:48",
      "  [7] mapfoldr_impl(f::Function, op::Function, nt::Tuple{Int64, Int64, Int64}, itr::Tuple{BatchNorm{typeof(relu), Vector{Float32}, Vector{Float32}, Float32}, Conv{2, 4, typeof(identity), Array{Float32, 4}, Vector{Float32}}})",
      "    @ Base ./reduce.jl:184",
      "  [8] #mapfoldr#214",
      "    @ ./reduce.jl:203 [inlined]",
      "  [9] #foldr#215",
      "    @ ./reduce.jl:222 [inlined]",
      " [10] outdims(c::Chain{Tuple{Conv{2, 4, typeof(identity), Array{Float32, 4}, Vector{Float32}}, BatchNorm{typeof(relu), Vector{Float32}, Vector{Float32}, Float32}}}, isize::Tuple{Int64, Int64, Int64})",
      "    @ Flux ~/.julia/packages/Flux/sY3yx/src/layers/basic.jl:60",
      " [11] FlipArgs",
      "    @ ./reduce.jl:194 [inlined]",
      " [12] BottomRF",
      "    @ ./reduce.jl:81 [inlined]",
      " [13] afoldl(::Base.BottomRF{Base.FlipArgs{typeof(Flux.outdims)}}, ::Tuple{Int64, Int64, Int64}, ::Chain{Tuple{Conv{2, 4, typeof(identity), Array{Float32, 4}, Vector{Float32}}, BatchNorm{typeof(relu), Vector{Float32}, Vector{Float32}, Float32}}}, ::Chain{Tuple{Conv{2, 4, typeof(identity), Array{Float32, 4}, Vector{Float32}}, BatchNorm{typeof(relu), Vector{Float32}, Vector{Float32}, Float32}}}, ::Chain{Tuple{Conv{2, 4, typeof(identity), Array{Float32, 4}, Vector{Float32}}, BatchNorm{typeof(relu), Vector{Float32}, Vector{Float32}, Float32}}}, ::MaxPool{2, 4}, ::Chain{Tuple{FluxModels.ResBlock, FluxModels.ResBlock}}, ::Chain{Tuple{FluxModels.ResBlock, FluxModels.ResBlock}}, ::Chain{Tuple{FluxModels.ResBlock, FluxModels.ResBlock}}, ::Chain{Tuple{FluxModels.ResBlock, FluxModels.ResBlock}})",
      "    @ Base ./operators.jl:528",
      " [14] _foldl_impl(op::Base.BottomRF{Base.FlipArgs{typeof(Flux.outdims)}}, init::Tuple{Int64, Int64, Int64}, itr::Tuple{Chain{Tuple{Conv{2, 4, typeof(identity), Array{Float32, 4}, Vector{Float32}}, BatchNorm{typeof(relu), Vector{Float32}, Vector{Float32}, Float32}}}, Chain{Tuple{Conv{2, 4, typeof(identity), Array{Float32, 4}, Vector{Float32}}, BatchNorm{typeof(relu), Vector{Float32}, Vector{Float32}, Float32}}}, Chain{Tuple{Conv{2, 4, typeof(identity), Array{Float32, 4}, Vector{Float32}}, BatchNorm{typeof(relu), Vector{Float32}, Vector{Float32}, Float32}}}, MaxPool{2, 4}, Chain{Tuple{FluxModels.ResBlock, FluxModels.ResBlock}}, Chain{Tuple{FluxModels.ResBlock, FluxModels.ResBlock}}, Chain{Tuple{FluxModels.ResBlock, FluxModels.ResBlock}}, Chain{Tuple{FluxModels.ResBlock, FluxModels.ResBlock}}})",
      "    @ Base ./tuple.jl:263",
      " [15] foldl_impl(op::Base.BottomRF{Base.FlipArgs{typeof(Flux.outdims)}}, nt::Tuple{Int64, Int64, Int64}, itr::Tuple{Chain{Tuple{Conv{2, 4, typeof(identity), Array{Float32, 4}, Vector{Float32}}, BatchNorm{typeof(relu), Vector{Float32}, Vector{Float32}, Float32}}}, Chain{Tuple{Conv{2, 4, typeof(identity), Array{Float32, 4}, Vector{Float32}}, BatchNorm{typeof(relu), Vector{Float32}, Vector{Float32}, Float32}}}, Chain{Tuple{Conv{2, 4, typeof(identity), Array{Float32, 4}, Vector{Float32}}, BatchNorm{typeof(relu), Vector{Float32}, Vector{Float32}, Float32}}}, MaxPool{2, 4}, Chain{Tuple{FluxModels.ResBlock, FluxModels.ResBlock}}, Chain{Tuple{FluxModels.ResBlock, FluxModels.ResBlock}}, Chain{Tuple{FluxModels.ResBlock, FluxModels.ResBlock}}, Chain{Tuple{FluxModels.ResBlock, FluxModels.ResBlock}}})",
      "    @ Base ./reduce.jl:48",
      " [16] mapfoldr_impl(f::Function, op::Function, nt::Tuple{Int64, Int64, Int64}, itr::Tuple{Chain{Tuple{FluxModels.ResBlock, FluxModels.ResBlock}}, Chain{Tuple{FluxModels.ResBlock, FluxModels.ResBlock}}, Chain{Tuple{FluxModels.ResBlock, FluxModels.ResBlock}}, Chain{Tuple{FluxModels.ResBlock, FluxModels.ResBlock}}, MaxPool{2, 4}, Chain{Tuple{Conv{2, 4, typeof(identity), Array{Float32, 4}, Vector{Float32}}, BatchNorm{typeof(relu), Vector{Float32}, Vector{Float32}, Float32}}}, Chain{Tuple{Conv{2, 4, typeof(identity), Array{Float32, 4}, Vector{Float32}}, BatchNorm{typeof(relu), Vector{Float32}, Vector{Float32}, Float32}}}, Chain{Tuple{Conv{2, 4, typeof(identity), Array{Float32, 4}, Vector{Float32}}, BatchNorm{typeof(relu), Vector{Float32}, Vector{Float32}, Float32}}}})",
      "    @ Base ./reduce.jl:184",
      " [17] #mapfoldr#214",
      "    @ ./reduce.jl:203 [inlined]",
      " [18] #foldr#215",
      "    @ ./reduce.jl:222 [inlined]",
      " [19] outdims",
      "    @ ~/.julia/packages/Flux/sY3yx/src/layers/basic.jl:60 [inlined]",
      " [20] methodmodel(method::ImageClassification, backbone::Chain{Tuple{Chain{Tuple{Conv{2, 4, typeof(identity), Array{Float32, 4}, Vector{Float32}}, BatchNorm{typeof(relu), Vector{Float32}, Vector{Float32}, Float32}}}, Chain{Tuple{Conv{2, 4, typeof(identity), Array{Float32, 4}, Vector{Float32}}, BatchNorm{typeof(relu), Vector{Float32}, Vector{Float32}, Float32}}}, Chain{Tuple{Conv{2, 4, typeof(identity), Array{Float32, 4}, Vector{Float32}}, BatchNorm{typeof(relu), Vector{Float32}, Vector{Float32}, Float32}}}, MaxPool{2, 4}, Chain{Tuple{FluxModels.ResBlock, FluxModels.ResBlock}}, Chain{Tuple{FluxModels.ResBlock, FluxModels.ResBlock}}, Chain{Tuple{FluxModels.ResBlock, FluxModels.ResBlock}}, Chain{Tuple{FluxModels.ResBlock, FluxModels.ResBlock}}}})",
      "    @ DLPipelines ~/.julia/dev/DLPipelines/src/methods/imageclassification.jl:94",
      " [21] top-level scope",
      "    @ In[20]:4",
      " [22] eval",
      "    @ ./boot.jl:360 [inlined]",
      " [23] include_string(mapexpr::typeof(REPL.softscope), mod::Module, code::String, filename::String)",
      "    @ Base ./loading.jl:1090"
     ]
    }
   ],
   "source": [
    "dataset = loaddataset(Datasets.ImageNette)\n",
    "method = ImageClassification(Datasets.metadata(Datasets.ImageNette).labels, (224, 224))\n",
    "dls = methoddataloaders(dataset, method)\n",
    "model = methodmodel(method, Models.xresnet18())"
   ]
  }
 ],
 "metadata": {
  "kernelspec": {
   "display_name": "Julia 12 threads 1.6.0-beta1",
   "language": "julia",
   "name": "julia-12-threads-1.6"
  },
  "language_info": {
   "file_extension": ".jl",
   "mimetype": "application/julia",
   "name": "julia",
   "version": "1.6.0"
  }
 },
 "nbformat": 4,
 "nbformat_minor": 4
}
