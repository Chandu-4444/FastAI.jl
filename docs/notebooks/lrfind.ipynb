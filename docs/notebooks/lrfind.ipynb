{
 "cells": [
  {
   "cell_type": "code",
   "execution_count": 1,
   "metadata": {},
   "outputs": [],
   "source": [
    "using FastAI\n",
    "using FluxTraining"
   ]
  },
  {
   "cell_type": "code",
   "execution_count": 2,
   "metadata": {},
   "outputs": [
    {
     "data": {
      "text/plain": [
       "Learner()"
      ]
     },
     "execution_count": 2,
     "metadata": {},
     "output_type": "execute_result"
    }
   ],
   "source": [
    "dataset = Datasets.loaddataset(\"imagenette2-160\");\n",
    "\n",
    "method = ImageClassification(Datasets.loadclasses(\"imagenette2-160\"), (160, 160))\n",
    "\n",
    "dls = methoddataloaders(dataset, method)\n",
    "\n",
    "model = methodmodel(method, Models.xresnet18());\n",
    "\n",
    "learner = Learner(model, dls, ADAM(), methodlossfn(method), ToGPU(), Metrics(SmoothLoss(), accuracy))"
   ]
  },
  {
   "cell_type": "code",
   "execution_count": 3,
   "metadata": {},
   "outputs": [
    {
     "ename": "LoadError",
     "evalue": "CUDA error (code 2, CUDA_ERROR_OUT_OF_MEMORY)",
     "output_type": "error",
     "traceback": [
      "CUDA error (code 2, CUDA_ERROR_OUT_OF_MEMORY)",
      "",
      "Stacktrace:",
      "  [1] throw_api_error(res::CUDA.cudaError_enum)",
      "    @ CUDA ~/.julia/packages/CUDA/Zmd60/lib/cudadrv/error.jl:97",
      "  [2] macro expansion",
      "    @ ~/.julia/packages/CUDA/Zmd60/lib/cudadrv/error.jl:104 [inlined]",
      "  [3] cuDevicePrimaryCtxRetain",
      "    @ ~/.julia/packages/CUDA/Zmd60/lib/utils/call.jl:26 [inlined]",
      "  [4] CuContext",
      "    @ ~/.julia/packages/CUDA/Zmd60/lib/cudadrv/context/primary.jl:32 [inlined]",
      "  [5] context(dev::CUDA.CuDevice)",
      "    @ CUDA ~/.julia/packages/CUDA/Zmd60/src/state.jl:258",
      "  [6] device!(dev::CUDA.CuDevice, flags::Nothing)",
      "    @ CUDA ~/.julia/packages/CUDA/Zmd60/src/state.jl:295",
      "  [7] device!(dev::CUDA.CuDevice)",
      "    @ CUDA ~/.julia/packages/CUDA/Zmd60/src/state.jl:274",
      "  [8] initialize_thread(tid::Int64)",
      "    @ CUDA ~/.julia/packages/CUDA/Zmd60/src/state.jl:122",
      "  [9] prepare_cuda_call()",
      "    @ CUDA ~/.julia/packages/CUDA/Zmd60/src/state.jl:80",
      " [10] device",
      "    @ ~/.julia/packages/CUDA/Zmd60/src/state.jl:227 [inlined]",
      " [11] alloc",
      "    @ ~/.julia/packages/CUDA/Zmd60/src/pool.jl:271 [inlined]",
      " [12] CUDA.CuArray{Float32, 4}(#unused#::UndefInitializer, dims::NTuple{4, Int64})",
      "    @ CUDA ~/.julia/packages/CUDA/Zmd60/src/array.jl:20",
      " [13] CuArray",
      "    @ ~/.julia/packages/CUDA/Zmd60/src/array.jl:76 [inlined]",
      " [14] similar",
      "    @ ./abstractarray.jl:779 [inlined]",
      " [15] convert(AT::Type{CUDA.CuArray{Float32, N} where N}, A::Array{Float32, 4})",
      "    @ GPUArrays ~/.julia/packages/GPUArrays/WV76E/src/host/construction.jl:82",
      " [16] adapt_storage",
      "    @ ~/.julia/packages/CUDA/Zmd60/src/array.jl:330 [inlined]",
      " [17] adapt_structure",
      "    @ ~/.julia/packages/Adapt/orWD2/src/Adapt.jl:42 [inlined]",
      " [18] adapt",
      "    @ ~/.julia/packages/Adapt/orWD2/src/Adapt.jl:40 [inlined]",
      " [19] cu",
      "    @ ~/.julia/packages/CUDA/Zmd60/src/array.jl:342 [inlined]",
      " [20] fmap(f::typeof(CUDA.cu), x::Array{Float32, 4}; cache::IdDict{Any, Any})",
      "    @ Functors ~/.julia/packages/Functors/YlETM/src/functor.jl:35",
      " [21] #14",
      "    @ ~/.julia/packages/Functors/YlETM/src/functor.jl:35 [inlined]",
      " [22] map(f::Functors.var\"#14#15\"{IdDict{Any, Any}, typeof(CUDA.cu)}, t::Tuple{Array{Float32, 4}, Vector{Float32}, Tuple{Int64, Int64}, NTuple{4, Int64}, Tuple{Int64, Int64}})",
      "    @ Base ./tuple.jl:216",
      " [23] map(::Function, ::NamedTuple{(:σ, :weight, :bias, :stride, :pad, :dilation), Tuple{typeof(identity), Array{Float32, 4}, Vector{Float32}, Tuple{Int64, Int64}, NTuple{4, Int64}, Tuple{Int64, Int64}}})",
      "    @ Base ./namedtuple.jl:197",
      " [24] fmap1(f::Function, x::Conv{2, 4, typeof(identity), Array{Float32, 4}, Vector{Float32}})",
      "    @ Functors ~/.julia/packages/Functors/YlETM/src/functor.jl:30",
      " [25] fmap(f::typeof(CUDA.cu), x::Conv{2, 4, typeof(identity), Array{Float32, 4}, Vector{Float32}}; cache::IdDict{Any, Any})",
      "    @ Functors ~/.julia/packages/Functors/YlETM/src/functor.jl:35",
      " [26] (::Functors.var\"#14#15\"{IdDict{Any, Any}, typeof(CUDA.cu)})(x::Conv{2, 4, typeof(identity), Array{Float32, 4}, Vector{Float32}})",
      "    @ Functors ~/.julia/packages/Functors/YlETM/src/functor.jl:35",
      " [27] map",
      "    @ ./tuple.jl:214 [inlined]",
      " [28] fmap1(f::Function, x::Chain{Tuple{Conv{2, 4, typeof(identity), Array{Float32, 4}, Vector{Float32}}, BatchNorm{typeof(relu), Vector{Float32}, Vector{Float32}, Float32}}})",
      "    @ Functors ~/.julia/packages/Functors/YlETM/src/functor.jl:30",
      " [29] fmap(f::typeof(CUDA.cu), x::Chain{Tuple{Conv{2, 4, typeof(identity), Array{Float32, 4}, Vector{Float32}}, BatchNorm{typeof(relu), Vector{Float32}, Vector{Float32}, Float32}}}; cache::IdDict{Any, Any})",
      "    @ Functors ~/.julia/packages/Functors/YlETM/src/functor.jl:35",
      " [30] (::Functors.var\"#14#15\"{IdDict{Any, Any}, typeof(CUDA.cu)})(x::Chain{Tuple{Conv{2, 4, typeof(identity), Array{Float32, 4}, Vector{Float32}}, BatchNorm{typeof(relu), Vector{Float32}, Vector{Float32}, Float32}}})",
      "    @ Functors ~/.julia/packages/Functors/YlETM/src/functor.jl:35",
      " [31] map",
      "    @ ./tuple.jl:216 [inlined]",
      " [32] fmap1(f::Function, x::Chain{Tuple{Chain{Tuple{Conv{2, 4, typeof(identity), Array{Float32, 4}, Vector{Float32}}, BatchNorm{typeof(relu), Vector{Float32}, Vector{Float32}, Float32}}}, Chain{Tuple{Conv{2, 4, typeof(identity), Array{Float32, 4}, Vector{Float32}}, BatchNorm{typeof(relu), Vector{Float32}, Vector{Float32}, Float32}}}, Chain{Tuple{Conv{2, 4, typeof(identity), Array{Float32, 4}, Vector{Float32}}, BatchNorm{typeof(relu), Vector{Float32}, Vector{Float32}, Float32}}}, MaxPool{2, 4}, Chain{Tuple{FastAI.Models.ResBlock, FastAI.Models.ResBlock}}, Chain{Tuple{FastAI.Models.ResBlock, FastAI.Models.ResBlock}}, Chain{Tuple{FastAI.Models.ResBlock, FastAI.Models.ResBlock}}, Chain{Tuple{FastAI.Models.ResBlock, FastAI.Models.ResBlock}}}})",
      "    @ Functors ~/.julia/packages/Functors/YlETM/src/functor.jl:30",
      " [33] fmap(f::typeof(CUDA.cu), x::Chain{Tuple{Chain{Tuple{Conv{2, 4, typeof(identity), Array{Float32, 4}, Vector{Float32}}, BatchNorm{typeof(relu), Vector{Float32}, Vector{Float32}, Float32}}}, Chain{Tuple{Conv{2, 4, typeof(identity), Array{Float32, 4}, Vector{Float32}}, BatchNorm{typeof(relu), Vector{Float32}, Vector{Float32}, Float32}}}, Chain{Tuple{Conv{2, 4, typeof(identity), Array{Float32, 4}, Vector{Float32}}, BatchNorm{typeof(relu), Vector{Float32}, Vector{Float32}, Float32}}}, MaxPool{2, 4}, Chain{Tuple{FastAI.Models.ResBlock, FastAI.Models.ResBlock}}, Chain{Tuple{FastAI.Models.ResBlock, FastAI.Models.ResBlock}}, Chain{Tuple{FastAI.Models.ResBlock, FastAI.Models.ResBlock}}, Chain{Tuple{FastAI.Models.ResBlock, FastAI.Models.ResBlock}}}}; cache::IdDict{Any, Any})",
      "    @ Functors ~/.julia/packages/Functors/YlETM/src/functor.jl:35",
      " [34] (::Functors.var\"#14#15\"{IdDict{Any, Any}, typeof(CUDA.cu)})(x::Chain{Tuple{Chain{Tuple{Conv{2, 4, typeof(identity), Array{Float32, 4}, Vector{Float32}}, BatchNorm{typeof(relu), Vector{Float32}, Vector{Float32}, Float32}}}, Chain{Tuple{Conv{2, 4, typeof(identity), Array{Float32, 4}, Vector{Float32}}, BatchNorm{typeof(relu), Vector{Float32}, Vector{Float32}, Float32}}}, Chain{Tuple{Conv{2, 4, typeof(identity), Array{Float32, 4}, Vector{Float32}}, BatchNorm{typeof(relu), Vector{Float32}, Vector{Float32}, Float32}}}, MaxPool{2, 4}, Chain{Tuple{FastAI.Models.ResBlock, FastAI.Models.ResBlock}}, Chain{Tuple{FastAI.Models.ResBlock, FastAI.Models.ResBlock}}, Chain{Tuple{FastAI.Models.ResBlock, FastAI.Models.ResBlock}}, Chain{Tuple{FastAI.Models.ResBlock, FastAI.Models.ResBlock}}}})",
      "    @ Functors ~/.julia/packages/Functors/YlETM/src/functor.jl:35",
      " [35] map",
      "    @ ./tuple.jl:214 [inlined]",
      " [36] fmap1(f::Function, x::Chain{Tuple{Chain{Tuple{Chain{Tuple{Conv{2, 4, typeof(identity), Array{Float32, 4}, Vector{Float32}}, BatchNorm{typeof(relu), Vector{Float32}, Vector{Float32}, Float32}}}, Chain{Tuple{Conv{2, 4, typeof(identity), Array{Float32, 4}, Vector{Float32}}, BatchNorm{typeof(relu), Vector{Float32}, Vector{Float32}, Float32}}}, Chain{Tuple{Conv{2, 4, typeof(identity), Array{Float32, 4}, Vector{Float32}}, BatchNorm{typeof(relu), Vector{Float32}, Vector{Float32}, Float32}}}, MaxPool{2, 4}, Chain{Tuple{FastAI.Models.ResBlock, FastAI.Models.ResBlock}}, Chain{Tuple{FastAI.Models.ResBlock, FastAI.Models.ResBlock}}, Chain{Tuple{FastAI.Models.ResBlock, FastAI.Models.ResBlock}}, Chain{Tuple{FastAI.Models.ResBlock, FastAI.Models.ResBlock}}}}, Chain{Tuple{AdaptiveMeanPool{4, 2}, typeof(flatten), Dense{typeof(identity), Matrix{Float32}, Vector{Float32}}}}}})",
      "    @ Functors ~/.julia/packages/Functors/YlETM/src/functor.jl:30",
      " [37] fmap(f::typeof(CUDA.cu), x::Chain{Tuple{Chain{Tuple{Chain{Tuple{Conv{2, 4, typeof(identity), Array{Float32, 4}, Vector{Float32}}, BatchNorm{typeof(relu), Vector{Float32}, Vector{Float32}, Float32}}}, Chain{Tuple{Conv{2, 4, typeof(identity), Array{Float32, 4}, Vector{Float32}}, BatchNorm{typeof(relu), Vector{Float32}, Vector{Float32}, Float32}}}, Chain{Tuple{Conv{2, 4, typeof(identity), Array{Float32, 4}, Vector{Float32}}, BatchNorm{typeof(relu), Vector{Float32}, Vector{Float32}, Float32}}}, MaxPool{2, 4}, Chain{Tuple{FastAI.Models.ResBlock, FastAI.Models.ResBlock}}, Chain{Tuple{FastAI.Models.ResBlock, FastAI.Models.ResBlock}}, Chain{Tuple{FastAI.Models.ResBlock, FastAI.Models.ResBlock}}, Chain{Tuple{FastAI.Models.ResBlock, FastAI.Models.ResBlock}}}}, Chain{Tuple{AdaptiveMeanPool{4, 2}, typeof(flatten), Dense{typeof(identity), Matrix{Float32}, Vector{Float32}}}}}}; cache::IdDict{Any, Any})",
      "    @ Functors ~/.julia/packages/Functors/YlETM/src/functor.jl:35",
      " [38] fmap",
      "    @ ~/.julia/packages/Functors/YlETM/src/functor.jl:34 [inlined]",
      " [39] gpu(x::Chain{Tuple{Chain{Tuple{Chain{Tuple{Conv{2, 4, typeof(identity), Array{Float32, 4}, Vector{Float32}}, BatchNorm{typeof(relu), Vector{Float32}, Vector{Float32}, Float32}}}, Chain{Tuple{Conv{2, 4, typeof(identity), Array{Float32, 4}, Vector{Float32}}, BatchNorm{typeof(relu), Vector{Float32}, Vector{Float32}, Float32}}}, Chain{Tuple{Conv{2, 4, typeof(identity), Array{Float32, 4}, Vector{Float32}}, BatchNorm{typeof(relu), Vector{Float32}, Vector{Float32}, Float32}}}, MaxPool{2, 4}, Chain{Tuple{FastAI.Models.ResBlock, FastAI.Models.ResBlock}}, Chain{Tuple{FastAI.Models.ResBlock, FastAI.Models.ResBlock}}, Chain{Tuple{FastAI.Models.ResBlock, FastAI.Models.ResBlock}}, Chain{Tuple{FastAI.Models.ResBlock, FastAI.Models.ResBlock}}}}, Chain{Tuple{AdaptiveMeanPool{4, 2}, typeof(flatten), Dense{typeof(identity), Matrix{Float32}, Vector{Float32}}}}}})",
      "    @ Flux ~/.julia/packages/Flux/Eowtu/src/functor.jl:68",
      " [40] on(#unused#::FluxTraining.Events.EpochBegin, #unused#::ValidationPhase, #unused#::ToGPU, learner::FluxTraining.Protected{Learner})",
      "    @ FluxTraining ~/.julia/dev/FluxTraining/src/callbacks/callbacks.jl:110",
      " [41] _on(e::FluxTraining.Events.EpochBegin, p::ValidationPhase, cb::ToGPU, learner::Learner)",
      "    @ FluxTraining ~/.julia/dev/FluxTraining/src/callbacks/callback.jl:151",
      " [42] handle(runner::FluxTraining.LinearRunner, event::FluxTraining.Events.EpochBegin, phase::ValidationPhase, learner::Learner)",
      "    @ FluxTraining ~/.julia/dev/FluxTraining/src/callbacks/execution.jl:12",
      " [43] handle(event::FluxTraining.Events.EpochBegin, learner::Learner, phase::ValidationPhase)",
      "    @ FluxTraining ~/.julia/dev/FluxTraining/src/learner.jl:129",
      " [44] fitepochphase!(learner::Learner, phase::ValidationPhase)",
      "    @ FluxTraining ~/.julia/dev/FluxTraining/src/train.jl:84",
      " [45] fitepoch!(learner::Learner, phase::ValidationPhase)",
      "    @ FluxTraining ~/.julia/dev/FluxTraining/src/train.jl:42",
      " [46] fit!(learner::Learner, phases::Vector{ValidationPhase})",
      "    @ FluxTraining ~/.julia/dev/FluxTraining/src/train.jl:17",
      " [47] fit!(learner::Learner, phase::ValidationPhase)",
      "    @ FluxTraining ~/.julia/dev/FluxTraining/src/train.jl:29",
      " [48] top-level scope",
      "    @ In[3]:1",
      " [49] eval",
      "    @ ./boot.jl:360 [inlined]",
      " [50] include_string(mapexpr::typeof(REPL.softscope), mod::Module, code::String, filename::String)",
      "    @ Base ./loading.jl:1090"
     ]
    }
   ],
   "source": [
    "fit!(learner, ValidationPhase())"
   ]
  },
  {
   "cell_type": "code",
   "execution_count": 4,
   "metadata": {},
   "outputs": [
    {
     "name": "stdout",
     "output_type": "stream",
     "text": [
      "1/4 sanity checks failed:\n",
      "---\n",
      "1: Model and loss function compatible with data (ERROR)\n",
      "\n",
      "To perform the optimization step, the model and loss function need\n",
      "to be compatible with the data. This means the following must work:\n",
      "\n",
      "- `(x, y), _ = iterate(learner.data.training)`\n",
      "- `ŷ = learner.model(x)`\n",
      "- `loss = learner.lossfn(ŷ, y)`\n",
      "\n"
     ]
    },
    {
     "ename": "LoadError",
     "evalue": "FluxTraining.SanityCheckException()",
     "output_type": "error",
     "traceback": [
      "FluxTraining.SanityCheckException()",
      "",
      "Stacktrace:",
      "  [1] runchecks(checks::Vector{FluxTraining.Check}, learner::FluxTraining.Protected{Learner})",
      "    @ FluxTraining ~/.julia/dev/FluxTraining/src/callbacks/sanitycheck.jl:37",
      "  [2] on",
      "    @ ~/.julia/dev/FluxTraining/src/callbacks/sanitycheck.jl:73 [inlined]",
      "  [3] _on(e::FluxTraining.Events.Init, p::TrainingPhase, cb::SanityCheck, learner::Learner)",
      "    @ FluxTraining ~/.julia/dev/FluxTraining/src/callbacks/callback.jl:151",
      "  [4] handle(runner::FluxTraining.LinearRunner, event::FluxTraining.Events.Init, phase::TrainingPhase, learner::Learner)",
      "    @ FluxTraining ~/.julia/dev/FluxTraining/src/callbacks/execution.jl:12",
      "  [5] handle(event::FluxTraining.Events.Init, learner::Learner, phase::TrainingPhase)",
      "    @ FluxTraining ~/.julia/dev/FluxTraining/src/learner.jl:129",
      "  [6] initlearner!",
      "    @ ~/.julia/dev/FluxTraining/src/train.jl:3 [inlined]",
      "  [7] addcallback!(learner::Learner, callback::Scheduler)",
      "    @ FluxTraining ~/.julia/dev/FluxTraining/src/learner.jl:173",
      "  [8] replacecallback!(learner::Learner, callback::Scheduler)",
      "    @ FluxTraining ~/.julia/dev/FluxTraining/src/learner.jl:201",
      "  [9] (::FastAI.var\"#28#29\"{Learner})(cb::Scheduler)",
      "    @ FastAI ./none:0",
      " [10] iterate",
      "    @ ./generator.jl:47 [inlined]",
      " [11] collect_to!(dest::Vector{Metrics}, itr::Base.Generator{Tuple{Metrics, Scheduler}, FastAI.var\"#28#29\"{Learner}}, offs::Int64, st::Int64)",
      "    @ Base ./array.jl:724",
      " [12] collect_to_with_first!(dest::Vector{Metrics}, v1::Metrics, itr::Base.Generator{Tuple{Metrics, Scheduler}, FastAI.var\"#28#29\"{Learner}}, st::Int64)",
      "    @ Base ./array.jl:702",
      " [13] collect(itr::Base.Generator{Tuple{Metrics, Scheduler}, FastAI.var\"#28#29\"{Learner}})",
      "    @ Base ./array.jl:683",
      " [14] withcallbacks(::FastAI.var\"#36#38\"{Learner, FastAI.LRFinderPhase, Vector{Float32}, Vector{Float32}, Loss, DataLoaders.BufferGetObsParallel{Tuple{Array{Float32, 4}, Matrix{Float32}}, DataLoaders.BatchViewCollated{DLPipelines.MethodDataset{ImageClassification}}}}, ::Learner, ::Metrics, ::Vararg{Any, N} where N)",
      "    @ FastAI ~/.julia/dev/FastAI/src/training/utils.jl:97",
      " [15] #35",
      "    @ ~/.julia/dev/FastAI/src/training/lrfind.jl:49 [inlined]",
      " [16] withfields(f::FastAI.var\"#35#37\"{Learner, FastAI.LRFinderPhase, Vector{Float32}, Vector{Float32}, Metrics, Loss, DataLoaders.BufferGetObsParallel{Tuple{Array{Float32, 4}, Matrix{Float32}}, DataLoaders.BatchViewCollated{DLPipelines.MethodDataset{ImageClassification}}}}, x::Learner; kwargs::Base.Iterators.Pairs{Symbol, Any, Tuple{Symbol, Symbol}, NamedTuple{(:model, :optimizer), Tuple{Tuple{typeof(FluxTraining.model!), Chain{Tuple{Chain{Tuple{Chain{Tuple{Conv{2, 4, typeof(identity), Array{Float32, 4}, Vector{Float32}}, BatchNorm{typeof(relu), Vector{Float32}, Vector{Float32}, Float32}}}, Chain{Tuple{Conv{2, 4, typeof(identity), Array{Float32, 4}, Vector{Float32}}, BatchNorm{typeof(relu), Vector{Float32}, Vector{Float32}, Float32}}}, Chain{Tuple{Conv{2, 4, typeof(identity), Array{Float32, 4}, Vector{Float32}}, BatchNorm{typeof(relu), Vector{Float32}, Vector{Float32}, Float32}}}, MaxPool{2, 4}, Chain{Tuple{FastAI.Models.ResBlock, FastAI.Models.ResBlock}}, Chain{Tuple{FastAI.Models.ResBlock, FastAI.Models.ResBlock}}, Chain{Tuple{FastAI.Models.ResBlock, FastAI.Models.ResBlock}}, Chain{Tuple{FastAI.Models.ResBlock, FastAI.Models.ResBlock}}}}, Chain{Tuple{AdaptiveMeanPool{4, 2}, typeof(flatten), Dense{typeof(identity), Matrix{Float32}, Vector{Float32}}}}}}}, ADAM}}})",
      "    @ FastAI ~/.julia/dev/FastAI/src/training/utils.jl:73",
      " [17] fitepochphase!(learner::Learner, phase::FastAI.LRFinderPhase)",
      "    @ FastAI ~/.julia/dev/FastAI/src/training/lrfind.jl:43",
      " [18] fitepoch!(learner::Learner, phase::FastAI.LRFinderPhase)",
      "    @ FluxTraining ~/.julia/dev/FluxTraining/src/train.jl:42",
      " [19] fit!(learner::Learner, phases::Vector{FastAI.LRFinderPhase})",
      "    @ FluxTraining ~/.julia/dev/FluxTraining/src/train.jl:17",
      " [20] fit!(learner::Learner, phase::FastAI.LRFinderPhase)",
      "    @ FluxTraining ~/.julia/dev/FluxTraining/src/train.jl:29",
      " [21] top-level scope",
      "    @ In[4]:2",
      " [22] eval",
      "    @ ./boot.jl:360 [inlined]",
      " [23] include_string(mapexpr::typeof(REPL.softscope), mod::Module, code::String, filename::String)",
      "    @ Base ./loading.jl:1090"
     ]
    }
   ],
   "source": [
    "phase = FastAI.LRFinderPhase(steps = 100, β = 0.08)\n",
    "fit!(learner, phase)"
   ]
  },
  {
   "cell_type": "code",
   "execution_count": 5,
   "metadata": {},
   "outputs": [
    {
     "name": "stderr",
     "output_type": "stream",
     "text": [
      "┌ Info: Precompiling SimplePlots [307c2aad-90be-4152-b348-f51955fac6ce]\n",
      "└ @ Base loading.jl:1313\n"
     ]
    },
    {
     "data": {
      "text/html": [
       "  <script type=\"text/javascript\" class=\"js-plotly-script\">\n",
       "    globalComms = {};\n",
       "    demoData = {};\n",
       "\n",
       "    $(\".js-plotly-script\").parent().css('padding', 0);\n",
       "\n",
       "    function customPlotlyReact(curPlot, curData, curLayout, curConfig) {\n",
       "      for (var i = 0; i < curData.length; i++) {\n",
       "        curData[i][\"visible\"] = true;\n",
       "        for (var j = 0; j < curPlot.data.length; j++) {\n",
       "          if ( curData[i].name !== curPlot.data[j].name ) { continue; }\n",
       "          if ( curPlot.data[j].visible !== \"legendonly\" ) { continue; }\n",
       "\n",
       "          curData[i][\"visible\"] = \"legendonly\";\n",
       "        }\n",
       "      }\n",
       "\n",
       "      Plotly.react(curPlot, curData, curLayout, curConfig);\n",
       "    }\n",
       "\n",
       "    function customPlotLoader(curCallback) {\n",
       "      if ( $(\".js-nouislider-css\").length == 0 ) {\n",
       "        $(\"head\").append(\n",
       "          '<link class=\"js-nouislider-css\" href=\"https://cdn.jsdelivr.net/gh/djsegal/SimplePlots.jl/dist/nouislider.min.css\" rel=\"stylesheet\">'\n",
       "        );\n",
       "      }\n",
       "\n",
       "      if ( $(\".js-custom-css\").length == 0 ) {\n",
       "        $(\"head\").append(\n",
       "          '<link class=\"js-custom-css\" href=\"https://cdn.jsdelivr.net/gh/djsegal/SimplePlots.jl/dist/custom.min.css\" rel=\"stylesheet\">'\n",
       "        );\n",
       "      }\n",
       "\n",
       "      if ( typeof Plotly !== \"undefined\" ) {\n",
       "        if ( typeof curCallback !== \"undefined\" ) {\n",
       "          curCallback();\n",
       "        }\n",
       "        return;\n",
       "      }\n",
       "\n",
       "      var plotlyScripts = document.getElementsByClassName(\"js-plotly-script\");\n",
       "\n",
       "      for (var i = 0; i < plotlyScripts.length; i++) {\n",
       "        var scriptParent = plotlyScripts[i].parentElement;\n",
       "        scriptParent.style.margin = \"0\";\n",
       "        scriptParent.style.padding = \"0\";\n",
       "      }\n",
       "\n",
       "      require.config({\n",
       "        paths: {\n",
       "          Plotly: \"https://cdn.plot.ly/plotly-1.53.0.min\",\n",
       "          noUiSlider: \"https://cdn.jsdelivr.net/gh/djsegal/SimplePlots.jl/dist/nouislider.min\",\n",
       "          wNumb: \"https://cdn.jsdelivr.net/gh/djsegal/SimplePlots.jl/dist/wnumb.min\"\n",
       "        }\n",
       "      });\n",
       "\n",
       "      require([\"Plotly\", \"noUiSlider\", \"wNumb\"], function(Plotly, noUiSlider, wNumb){\n",
       "        window.Plotly = Plotly;\n",
       "        window.noUiSlider = noUiSlider;\n",
       "        window.wNumb = wNumb;\n",
       "\n",
       "        if ( typeof curCallback !== \"undefined\" ) {\n",
       "          curCallback();\n",
       "        }\n",
       "\n",
       "        $(\"head\").append($(\".js-plotly-script\"));\n",
       "        $(\"head .js-plotly-script:not(:first)\").remove();\n",
       "        $(\"body .js-plotly-script\").remove();\n",
       "      });\n",
       "    }\n",
       "\n",
       "    $(document).ready(customPlotLoader);\n",
       "    customPlotLoader();\n",
       "  </script>\n"
      ],
      "text/plain": [
       "HTML{String}(\"  <script type=\\\"text/javascript\\\" class=\\\"js-plotly-script\\\">\\n    globalComms = {};\\n    demoData = {};\\n\\n    \\$(\\\".js-plotly-script\\\").parent().css('padding', 0);\\n\\n    function customPlotlyReact(curPlot, curData, curLayout, curConfig) {\\n      for (var i = 0; i < curData.length; i++) {\\n        curData[i][\\\"visible\\\"] = true;\\n        for (var j = 0; j < curPlot.data.length; j++) {\\n          if ( curData[i].name !== curPlot.data[j].name ) { continue; }\\n          if ( curPlot.data[j].visible !== \\\"legendonly\\\" ) { continue; }\\n\\n          curData[i][\\\"visible\\\"] = \\\"legendonly\\\";\\n        }\\n      }\\n\\n      Plotly.react(curPlot, curData, curLayout, curConfig);\\n    }\\n\\n    function customPlotLoader(curCallback) {\\n      if ( \\$(\\\".js-nouislider-css\\\").length == 0 ) {\\n        \\$(\\\"head\\\").append(\\n          '<link class=\\\"js-nouislider-css\\\" href=\\\"https://cdn.jsdelivr.net/gh/djsegal/SimplePlots.jl/dist/nouislider.min.css\\\" rel=\\\"stylesheet\\\">'\\n        );\\n      }\\n\\n      if ( \\$(\\\".js-custom-css\\\").length == 0 ) {\\n        \\$(\\\"head\\\").append(\\n          '<link class=\\\"js-custom-css\\\" href=\\\"https://cdn.jsdelivr.net/gh/djsegal/SimplePlots.jl/dist/custom.min.css\\\" rel=\\\"stylesheet\\\">'\\n        );\\n      }\\n\\n      if ( typeof Plotly !== \\\"undefined\\\" ) {\\n        if ( typeof curCallback !== \\\"undefined\\\" ) {\\n          curCallback();\\n        }\\n        return;\\n      }\\n\\n      var plotlyScripts = document.getElementsByClassName(\\\"js-plotly-script\\\");\\n\\n      for (var i = 0; i < plotlyScripts.length; i++) {\\n        var scriptParent = plotlyScripts[i].parentElement;\\n        scriptParent.style.margin = \\\"0\\\";\\n        scriptParent.style.padding = \\\"0\\\";\\n      }\\n\\n      require.config({\\n        paths: {\\n          Plotly: \\\"https://cdn.plot.ly/plotly-1.53.0.min\\\",\\n          noUiSlider: \\\"https://cdn.jsdelivr.net/gh/djsegal/SimplePlots.jl/dist/nouislider.min\\\",\\n          wNumb: \\\"https://cdn.jsdelivr.net/gh/djsegal/SimplePlots.jl/dist/wnumb.min\\\"\\n        }\\n      });\\n\\n      require([\\\"Plotly\\\", \\\"noUiSlider\\\", \\\"wNumb\\\"], function(Plotly, noUiSlider, wNumb){\\n        window.Plotly = Plotly;\\n        window.noUiSlider = noUiSlider;\\n        window.wNumb = wNumb;\\n\\n        if ( typeof curCallback !== \\\"undefined\\\" ) {\\n          curCallback();\\n        }\\n\\n        \\$(\\\"head\\\").append(\\$(\\\".js-plotly-script\\\"));\\n        \\$(\\\"head .js-plotly-script:not(:first)\\\").remove();\\n        \\$(\\\"body .js-plotly-script\\\").remove();\\n      });\\n    }\\n\\n    \\$(document).ready(customPlotLoader);\\n    customPlotLoader();\\n  </script>\\n\")"
      ]
     },
     "metadata": {},
     "output_type": "display_data"
    }
   ],
   "source": [
    "using SimplePlots"
   ]
  },
  {
   "cell_type": "code",
   "execution_count": 6,
   "metadata": {},
   "outputs": [
    {
     "ename": "LoadError",
     "evalue": "type Nothing has no field lrs",
     "output_type": "error",
     "traceback": [
      "type Nothing has no field lrs",
      "",
      "Stacktrace:",
      " [1] getproperty(x::Nothing, f::Symbol)",
      "   @ Base ./Base.jl:33",
      " [2] top-level scope",
      "   @ In[6]:1",
      " [3] eval",
      "   @ ./boot.jl:360 [inlined]",
      " [4] include_string(mapexpr::typeof(REPL.softscope), mod::Module, code::String, filename::String)",
      "   @ Base ./loading.jl:1090"
     ]
    }
   ],
   "source": [
    "SimplePlots.plot(phase.result.lrs, phase.result.losses, xscale=:log)"
   ]
  }
 ],
 "metadata": {
  "kernelspec": {
   "display_name": "Julia (24 threads) 1.6.0-beta1",
   "language": "julia",
   "name": "julia-(24-threads)-1.6"
  },
  "language_info": {
   "file_extension": ".jl",
   "mimetype": "application/julia",
   "name": "julia",
   "version": "1.6.0"
  }
 },
 "nbformat": 4,
 "nbformat_minor": 4
}
