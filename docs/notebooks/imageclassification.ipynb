{
 "cells": [
  {
   "cell_type": "markdown",
   "metadata": {},
   "source": [
    "# Image classification"
   ]
  },
  {
   "cell_type": "code",
   "execution_count": 1,
   "metadata": {},
   "outputs": [],
   "source": [
    "using FastAI\n",
    "using Zygote"
   ]
  },
  {
   "cell_type": "markdown",
   "metadata": {},
   "source": [
    "Choose any image classification dataset out of"
   ]
  },
  {
   "cell_type": "code",
   "execution_count": 2,
   "metadata": {},
   "outputs": [
    {
     "data": {
      "text/plain": [
       "26-element Vector{String}:\n",
       " \"CUB_200_2011\"\n",
       " \"bedroom\"\n",
       " \"caltech_101\"\n",
       " \"cifar10\"\n",
       " \"cifar100\"\n",
       " \"food-101\"\n",
       " \"imagenette-160\"\n",
       " \"imagenette-320\"\n",
       " \"imagenette\"\n",
       " \"imagenette2-160\"\n",
       " \"imagenette2-320\"\n",
       " \"imagenette2\"\n",
       " \"imagewang-160\"\n",
       " \"imagewang-320\"\n",
       " \"imagewang\"\n",
       " \"imagewoof-160\"\n",
       " \"imagewoof-320\"\n",
       " \"imagewoof\"\n",
       " \"imagewoof2-160\"\n",
       " \"imagewoof2-320\"\n",
       " \"imagewoof2\"\n",
       " \"mnist_png\"\n",
       " \"mnist_var_size_tiny\"\n",
       " \"oxford-102-flowers\"\n",
       " \"oxford-iiit-pet\"\n",
       " \"stanford-cars\""
      ]
     },
     "execution_count": 2,
     "metadata": {},
     "output_type": "execute_result"
    }
   ],
   "source": [
    "Datasets.DATASETS_IMAGECLASSIFICATION"
   ]
  },
  {
   "cell_type": "code",
   "execution_count": 3,
   "metadata": {},
   "outputs": [],
   "source": [
    "DATASETNAME = \"imagenette2-160\";"
   ]
  },
  {
   "cell_type": "code",
   "execution_count": 4,
   "metadata": {},
   "outputs": [
    {
     "name": "stdout",
     "output_type": "stream",
     "text": [
      "class = \"n01440764\"\n"
     ]
    },
    {
     "data": {
      "text/plain": [
       "\"n01440764\""
      ]
     },
     "execution_count": 4,
     "metadata": {},
     "output_type": "execute_result"
    }
   ],
   "source": [
    "taskdata = Datasets.loadtaskdata(Datasets.datasetpath(DATASETNAME), ImageClassificationTask)\n",
    "classes = Datasets.getclassesclassification(DATASETNAME)\n",
    "image, class = getobs(taskdata, 1)\n",
    "@show class"
   ]
  },
  {
   "cell_type": "code",
   "execution_count": 5,
   "metadata": {},
   "outputs": [
    {
     "data": {
      "text/plain": [
       "ImageClassification() with 10 classes"
      ]
     },
     "execution_count": 5,
     "metadata": {},
     "output_type": "execute_result"
    }
   ],
   "source": [
    "method = ImageClassification(classes, (128, 128))"
   ]
  },
  {
   "cell_type": "code",
   "execution_count": 8,
   "metadata": {},
   "outputs": [],
   "source": [
    "# load model with pretrained weights\n",
    "backbone = Models.resnet50();"
   ]
  },
  {
   "cell_type": "code",
   "execution_count": 7,
   "metadata": {},
   "outputs": [
    {
     "data": {
      "text/plain": [
       "Learner()"
      ]
     },
     "execution_count": 7,
     "metadata": {},
     "output_type": "execute_result"
    }
   ],
   "source": [
    "learner = methodlearner(method, taskdata, backbone)"
   ]
  },
  {
   "cell_type": "code",
   "execution_count": null,
   "metadata": {},
   "outputs": [],
   "source": [
    "finetune!(learner, 3)"
   ]
  }
 ],
 "metadata": {
  "kernelspec": {
   "display_name": "Julia 1.6.0-rc1",
   "language": "julia",
   "name": "julia-1.6"
  },
  "language_info": {
   "file_extension": ".jl",
   "mimetype": "application/julia",
   "name": "julia",
   "version": "1.6.0"
  }
 },
 "nbformat": 4,
 "nbformat_minor": 4
}
