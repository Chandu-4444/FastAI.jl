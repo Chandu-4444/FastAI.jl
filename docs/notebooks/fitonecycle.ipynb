{
 "cells": [
  {
   "cell_type": "code",
   "execution_count": 3,
   "metadata": {},
   "outputs": [],
   "source": [
    "using FastAI"
   ]
  },
  {
   "cell_type": "code",
   "execution_count": 4,
   "metadata": {},
   "outputs": [
    {
     "name": "stderr",
     "output_type": "stream",
     "text": [
      "┌ Info: Precompiling ImageMagick [6218d12a-5da1-5696-b52f-db25d2ecc6d1]\n",
      "└ @ Base loading.jl:1313\n"
     ]
    }
   ],
   "source": [
    "dataset = Datasets.loaddataset(\"imagenette2-160\");\n",
    "method = ImageClassification(Datasets.loadclasses(\"imagenette2-160\"), (160, 160))\n",
    "dls = methoddataloaders(dataset, method)\n",
    "model = methodmodel(method, Models.xresnet18());"
   ]
  },
  {
   "cell_type": "code",
   "execution_count": 8,
   "metadata": {},
   "outputs": [
    {
     "data": {
      "text/plain": [
       "1"
      ]
     },
     "execution_count": 8,
     "metadata": {},
     "output_type": "execute_result"
    }
   ],
   "source": [
    "1"
   ]
  },
  {
   "cell_type": "code",
   "execution_count": 5,
   "metadata": {},
   "outputs": [
    {
     "data": {
      "text/plain": [
       "Learner()"
      ]
     },
     "execution_count": 5,
     "metadata": {},
     "output_type": "execute_result"
    }
   ],
   "source": [
    "learner = Learner(model, dls, ADAM(), methodlossfn(method), ToGPU(), Metrics(SmoothLoss(), accuracy))"
   ]
  },
  {
   "cell_type": "code",
   "execution_count": 6,
   "metadata": {},
   "outputs": [
    {
     "name": "stderr",
     "output_type": "stream",
     "text": [
      "\u001b[32mEpoch 1 TrainingPhase(): 100%|██████████████████████████| Time: 0:02:31\u001b[39mm\n"
     ]
    },
    {
     "name": "stdout",
     "output_type": "stream",
     "text": [
      "┌───────────────┬───────┬─────────┬────────────┬──────────┐\n",
      "│\u001b[1m         Phase \u001b[0m│\u001b[1m Epoch \u001b[0m│\u001b[1m    Loss \u001b[0m│\u001b[1m SmoothLoss \u001b[0m│\u001b[1m Accuracy \u001b[0m│\n",
      "├───────────────┼───────┼─────────┼────────────┼──────────┤\n",
      "│ TrainingPhase │   1.0 │ 1.72895 │     1.6205 │  0.41518 │\n",
      "└───────────────┴───────┴─────────┴────────────┴──────────┘\n"
     ]
    },
    {
     "name": "stderr",
     "output_type": "stream",
     "text": [
      "\u001b[32mEpoch 1 ValidationPhase(): 100%|████████████████████████| Time: 0:00:03\u001b[39m\n"
     ]
    },
    {
     "name": "stdout",
     "output_type": "stream",
     "text": [
      "┌─────────────────┬───────┬─────────┬────────────┬──────────┐\n",
      "│\u001b[1m           Phase \u001b[0m│\u001b[1m Epoch \u001b[0m│\u001b[1m    Loss \u001b[0m│\u001b[1m SmoothLoss \u001b[0m│\u001b[1m Accuracy \u001b[0m│\n",
      "├─────────────────┼───────┼─────────┼────────────┼──────────┤\n",
      "│ ValidationPhase │   1.0 │ 1.58284 │    0.85891 │  0.48602 │\n",
      "└─────────────────┴───────┴─────────┴────────────┴──────────┘\n"
     ]
    },
    {
     "name": "stderr",
     "output_type": "stream",
     "text": [
      "\u001b[32mEpoch 2 TrainingPhase(): 100%|██████████████████████████| Time: 0:00:36\u001b[39m\n"
     ]
    },
    {
     "name": "stdout",
     "output_type": "stream",
     "text": [
      "┌───────────────┬───────┬─────────┬────────────┬──────────┐\n",
      "│\u001b[1m         Phase \u001b[0m│\u001b[1m Epoch \u001b[0m│\u001b[1m    Loss \u001b[0m│\u001b[1m SmoothLoss \u001b[0m│\u001b[1m Accuracy \u001b[0m│\n",
      "├───────────────┼───────┼─────────┼────────────┼──────────┤\n",
      "│ TrainingPhase │   2.0 │ 1.31925 │    0.78861 │  0.56858 │\n",
      "└───────────────┴───────┴─────────┴────────────┴──────────┘\n"
     ]
    },
    {
     "name": "stderr",
     "output_type": "stream",
     "text": [
      "\u001b[32mEpoch 2 ValidationPhase(): 100%|████████████████████████| Time: 0:00:02\u001b[39m\n"
     ]
    },
    {
     "name": "stdout",
     "output_type": "stream",
     "text": [
      "┌─────────────────┬───────┬────────┬────────────┬──────────┐\n",
      "│\u001b[1m           Phase \u001b[0m│\u001b[1m Epoch \u001b[0m│\u001b[1m   Loss \u001b[0m│\u001b[1m SmoothLoss \u001b[0m│\u001b[1m Accuracy \u001b[0m│\n",
      "├─────────────────┼───────┼────────┼────────────┼──────────┤\n",
      "│ ValidationPhase │   2.0 │ 1.1876 │    1.42171 │   0.6166 │\n",
      "└─────────────────┴───────┴────────┴────────────┴──────────┘\n"
     ]
    },
    {
     "name": "stderr",
     "output_type": "stream",
     "text": [
      "\u001b[32mEpoch 3 TrainingPhase(): 100%|██████████████████████████| Time: 0:00:36\u001b[39m\n"
     ]
    },
    {
     "name": "stdout",
     "output_type": "stream",
     "text": [
      "┌───────────────┬───────┬─────────┬────────────┬──────────┐\n",
      "│\u001b[1m         Phase \u001b[0m│\u001b[1m Epoch \u001b[0m│\u001b[1m    Loss \u001b[0m│\u001b[1m SmoothLoss \u001b[0m│\u001b[1m Accuracy \u001b[0m│\n",
      "├───────────────┼───────┼─────────┼────────────┼──────────┤\n",
      "│ TrainingPhase │   3.0 │ 1.05513 │    0.89691 │  0.65515 │\n",
      "└───────────────┴───────┴─────────┴────────────┴──────────┘\n"
     ]
    },
    {
     "name": "stderr",
     "output_type": "stream",
     "text": [
      "\u001b[32mEpoch 3 ValidationPhase(): 100%|████████████████████████| Time: 0:00:02\u001b[39m\n"
     ]
    },
    {
     "name": "stdout",
     "output_type": "stream",
     "text": [
      "┌─────────────────┬───────┬─────────┬────────────┬──────────┐\n",
      "│\u001b[1m           Phase \u001b[0m│\u001b[1m Epoch \u001b[0m│\u001b[1m    Loss \u001b[0m│\u001b[1m SmoothLoss \u001b[0m│\u001b[1m Accuracy \u001b[0m│\n",
      "├─────────────────┼───────┼─────────┼────────────┼──────────┤\n",
      "│ ValidationPhase │   3.0 │ 0.96263 │    1.39357 │  0.69324 │\n",
      "└─────────────────┴───────┴─────────┴────────────┴──────────┘\n"
     ]
    },
    {
     "name": "stderr",
     "output_type": "stream",
     "text": [
      "\u001b[32mEpoch 4 TrainingPhase(): 100%|██████████████████████████| Time: 0:00:36\u001b[39m\n"
     ]
    },
    {
     "name": "stdout",
     "output_type": "stream",
     "text": [
      "┌───────────────┬───────┬─────────┬────────────┬──────────┐\n",
      "│\u001b[1m         Phase \u001b[0m│\u001b[1m Epoch \u001b[0m│\u001b[1m    Loss \u001b[0m│\u001b[1m SmoothLoss \u001b[0m│\u001b[1m Accuracy \u001b[0m│\n",
      "├───────────────┼───────┼─────────┼────────────┼──────────┤\n",
      "│ TrainingPhase │   4.0 │ 0.76789 │    0.52662 │  0.74992 │\n",
      "└───────────────┴───────┴─────────┴────────────┴──────────┘\n"
     ]
    },
    {
     "name": "stderr",
     "output_type": "stream",
     "text": [
      "\u001b[32mEpoch 4 ValidationPhase(): 100%|████████████████████████| Time: 0:00:02\u001b[39m\n"
     ]
    },
    {
     "name": "stdout",
     "output_type": "stream",
     "text": [
      "┌─────────────────┬───────┬─────────┬────────────┬──────────┐\n",
      "│\u001b[1m           Phase \u001b[0m│\u001b[1m Epoch \u001b[0m│\u001b[1m    Loss \u001b[0m│\u001b[1m SmoothLoss \u001b[0m│\u001b[1m Accuracy \u001b[0m│\n",
      "├─────────────────┼───────┼─────────┼────────────┼──────────┤\n",
      "│ ValidationPhase │   4.0 │ 0.64074 │    0.54705 │    0.799 │\n",
      "└─────────────────┴───────┴─────────┴────────────┴──────────┘\n"
     ]
    },
    {
     "name": "stderr",
     "output_type": "stream",
     "text": [
      "\u001b[32mEpoch 5 TrainingPhase(): 100%|██████████████████████████| Time: 0:00:35\u001b[39m\n"
     ]
    },
    {
     "name": "stdout",
     "output_type": "stream",
     "text": [
      "┌───────────────┬───────┬─────────┬────────────┬──────────┐\n",
      "│\u001b[1m         Phase \u001b[0m│\u001b[1m Epoch \u001b[0m│\u001b[1m    Loss \u001b[0m│\u001b[1m SmoothLoss \u001b[0m│\u001b[1m Accuracy \u001b[0m│\n",
      "├───────────────┼───────┼─────────┼────────────┼──────────┤\n",
      "│ TrainingPhase │   5.0 │ 0.57986 │    0.65954 │  0.80952 │\n",
      "└───────────────┴───────┴─────────┴────────────┴──────────┘\n"
     ]
    },
    {
     "name": "stderr",
     "output_type": "stream",
     "text": [
      "\u001b[32mEpoch 5 ValidationPhase(): 100%|████████████████████████| Time: 0:00:02\u001b[39m\n"
     ]
    },
    {
     "name": "stdout",
     "output_type": "stream",
     "text": [
      "┌─────────────────┬───────┬─────────┬────────────┬──────────┐\n",
      "│\u001b[1m           Phase \u001b[0m│\u001b[1m Epoch \u001b[0m│\u001b[1m    Loss \u001b[0m│\u001b[1m SmoothLoss \u001b[0m│\u001b[1m Accuracy \u001b[0m│\n",
      "├─────────────────┼───────┼─────────┼────────────┼──────────┤\n",
      "│ ValidationPhase │   5.0 │ 0.56381 │    0.38232 │  0.82828 │\n",
      "└─────────────────┴───────┴─────────┴────────────┴──────────┘\n"
     ]
    },
    {
     "data": {
      "text/plain": [
       "Learner()"
      ]
     },
     "execution_count": 6,
     "metadata": {},
     "output_type": "execute_result"
    }
   ],
   "source": [
    "fitonecycle!(learner, 5)"
   ]
  }
 ],
 "metadata": {
  "kernelspec": {
   "display_name": "Julia (24 threads) 1.6.0-beta1",
   "language": "julia",
   "name": "julia-(24-threads)-1.6"
  },
  "language_info": {
   "file_extension": ".jl",
   "mimetype": "application/julia",
   "name": "julia",
   "version": "1.6.0"
  }
 },
 "nbformat": 4,
 "nbformat_minor": 4
}
